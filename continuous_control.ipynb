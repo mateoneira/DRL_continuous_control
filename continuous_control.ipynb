{
 "cells": [
  {
   "cell_type": "markdown",
   "metadata": {},
   "source": [
    "# Continuous Control\n",
    "---"
   ]
  },
  {
   "cell_type": "code",
   "execution_count": 1,
   "metadata": {},
   "outputs": [],
   "source": [
    "from unityagents import UnityEnvironment\n",
    "import numpy as np\n",
    "from agent.agent import Agent\n",
    "import torch\n",
    "import time\n",
    "\n",
    "from collections import deque\n",
    "import matplotlib.pyplot as plt\n",
    "%matplotlib inline"
   ]
  },
  {
   "cell_type": "code",
   "execution_count": 2,
   "metadata": {},
   "outputs": [
    {
     "name": "stderr",
     "output_type": "stream",
     "text": [
      "INFO:unityagents:\n",
      "'Academy' started successfully!\n",
      "Unity Academy name: Academy\n",
      "        Number of Brains: 1\n",
      "        Number of External Brains : 1\n",
      "        Lesson number : 0\n",
      "        Reset Parameters :\n",
      "\t\tgoal_speed -> 1.0\n",
      "\t\tgoal_size -> 5.0\n",
      "Unity brain name: ReacherBrain\n",
      "        Number of Visual Observations (per agent): 0\n",
      "        Vector Observation space type: continuous\n",
      "        Vector Observation space size (per agent): 33\n",
      "        Number of stacked Vector Observation: 1\n",
      "        Vector Action space type: continuous\n",
      "        Vector Action space size (per agent): 4\n",
      "        Vector Action descriptions: , , , \n"
     ]
    }
   ],
   "source": [
    "env = UnityEnvironment(file_name='Reacher_Windows_x86_64/Reacher')"
   ]
  },
  {
   "cell_type": "code",
   "execution_count": 3,
   "metadata": {},
   "outputs": [],
   "source": [
    "# get the default brain\n",
    "brain_name = env.brain_names[0]\n",
    "brain = env.brains[brain_name]"
   ]
  },
  {
   "cell_type": "code",
   "execution_count": 4,
   "metadata": {},
   "outputs": [
    {
     "name": "stdout",
     "output_type": "stream",
     "text": [
      "Number of agents: 20\n",
      "Size of each action: 4\n",
      "There are 20 agents. Each observes a state with length: 33\n",
      "The state for the first agent looks like: [ 0.00000000e+00 -4.00000000e+00  0.00000000e+00  1.00000000e+00\n",
      " -0.00000000e+00 -0.00000000e+00 -4.37113883e-08  0.00000000e+00\n",
      "  0.00000000e+00  0.00000000e+00  0.00000000e+00  0.00000000e+00\n",
      "  0.00000000e+00  0.00000000e+00 -1.00000000e+01  0.00000000e+00\n",
      "  1.00000000e+00 -0.00000000e+00 -0.00000000e+00 -4.37113883e-08\n",
      "  0.00000000e+00  0.00000000e+00  0.00000000e+00  0.00000000e+00\n",
      "  0.00000000e+00  0.00000000e+00  5.75471878e+00 -1.00000000e+00\n",
      "  5.55726624e+00  0.00000000e+00  1.00000000e+00  0.00000000e+00\n",
      " -1.68164849e-01]\n"
     ]
    }
   ],
   "source": [
    "# reset the environment\n",
    "env_info = env.reset(train_mode=True)[brain_name]\n",
    "\n",
    "# number of agents\n",
    "num_agents = len(env_info.agents)\n",
    "print('Number of agents:', num_agents)\n",
    "\n",
    "# size of each action\n",
    "action_size = brain.vector_action_space_size\n",
    "print('Size of each action:', action_size)\n",
    "\n",
    "# examine the state space \n",
    "states = env_info.vector_observations\n",
    "state_size = states.shape[1]\n",
    "print('There are {} agents. Each observes a state with length: {}'.format(states.shape[0], state_size))\n",
    "print('The state for the first agent looks like:', states[0])"
   ]
  },
  {
   "cell_type": "code",
   "execution_count": 5,
   "metadata": {},
   "outputs": [
    {
     "name": "stdout",
     "output_type": "stream",
     "text": [
      "agent using cuda:0 device\n"
     ]
    }
   ],
   "source": [
    "agent = Agent(state_size, action_size, num_agents=num_agents,seed=0)"
   ]
  },
  {
   "cell_type": "code",
   "execution_count": 6,
   "metadata": {},
   "outputs": [],
   "source": [
    "def ddpg(n_episodes=500):  \n",
    "    scores_deque = deque(maxlen=100)\n",
    "    scores_avg = [] # initialize the score (for each agent)\n",
    "    moving_averages = []\n",
    "    max_score = 0\n",
    "    \n",
    "    for i_episode in range(1, n_episodes+1):\n",
    "        env_info = env.reset(train_mode=True)[brain_name]     # reset the environment  \n",
    "        states = env_info.vector_observations                  # get the current state (for each agent)\n",
    "        scores = np.zeros(num_agents)\n",
    "        \n",
    "        agent.reset()\n",
    "        start_time = time.time()\n",
    "        while True:\n",
    "            actions = agent.act(states)\n",
    "            env_info = env.step(actions)[brain_name]           # send all actions to tne environment\n",
    "            next_states = env_info.vector_observations\n",
    "            rewards = env_info.rewards                         # get reward (for each agent)\n",
    "            dones = env_info.local_done                       # see if episode finished\n",
    "            agent.step(states, actions, rewards, next_states, dones)\n",
    "            \n",
    "            states = next_states\n",
    "            scores += rewards\n",
    "            if np.any(dones):\n",
    "                break\n",
    "        \n",
    "        score = np.mean(scores)\n",
    "        scores_deque.append(score)\n",
    "        scores_avg.append(score)\n",
    "        moving_averages.append(np.mean(scores_deque))\n",
    "        print('\\rEpisode {}\\tAverage Score: {:.2f}\\tScore: {:.2f} \\tTime: {:.2f}'.format(i_episode, np.mean(scores_deque), np.mean(scores), time.time()-start_time), end=\"\")\n",
    "        if np.mean(scores_deque)>max_score:\n",
    "            max_score = np.mean(scores_deque)\n",
    "            torch.save(agent.actor_local.state_dict(), 'checkpoint_actor.pth'.format(i_episode))\n",
    "            torch.save(agent.critic_local.state_dict(), 'checkpoint_critic.pth'.format(i_episode))\n",
    "        if i_episode % 10 == 0:\n",
    "            print('\\rEpisode {}\\tAverage Score: {:.2f} \\tMax score: {:.2f} \\tEpsilon: {:.2f} \\tTime: {:.2f}/per episode'.format(i_episode, np.mean(scores_deque), np.max(scores_deque), agent.epsilon, time.time()-start_time))   \n",
    "    return scores_avg, moving_averages"
   ]
  },
  {
   "cell_type": "code",
   "execution_count": 7,
   "metadata": {},
   "outputs": [
    {
     "name": "stdout",
     "output_type": "stream",
     "text": [
      "Episode 10\tAverage Score: 0.80 \tMax score: 1.14 \tEpsilon: 0.99 \tTime: 10.60/per episode\n",
      "Episode 20\tAverage Score: 1.11 \tMax score: 2.16 \tEpsilon: 0.99 \tTime: 16.29/per episode\n",
      "Episode 30\tAverage Score: 1.60 \tMax score: 3.01 \tEpsilon: 0.98 \tTime: 16.10/per episode\n",
      "Episode 40\tAverage Score: 2.12 \tMax score: 6.15 \tEpsilon: 0.98 \tTime: 22.90/per episode\n",
      "Episode 50\tAverage Score: 4.02 \tMax score: 17.07 \tEpsilon: 0.97 \tTime: 17.25/per episode\n",
      "Episode 60\tAverage Score: 7.41 \tMax score: 29.03 \tEpsilon: 0.97 \tTime: 20.44/per episode\n",
      "Episode 70\tAverage Score: 11.06 \tMax score: 36.61 \tEpsilon: 0.96 \tTime: 18.57/per episode\n",
      "Episode 80\tAverage Score: 14.39 \tMax score: 38.71 \tEpsilon: 0.96 \tTime: 23.20/per episode\n",
      "Episode 90\tAverage Score: 17.07 \tMax score: 38.84 \tEpsilon: 0.95 \tTime: 26.78/per episode\n",
      "Episode 100\tAverage Score: 19.20 \tMax score: 39.03 \tEpsilon: 0.95 \tTime: 17.82/per episode\n",
      "Episode 110\tAverage Score: 22.91 \tMax score: 39.05 \tEpsilon: 0.94 \tTime: 18.14/per episode\n",
      "Episode 120\tAverage Score: 26.58 \tMax score: 39.05 \tEpsilon: 0.94 \tTime: 17.24/per episode\n",
      "Episode 130\tAverage Score: 30.14 \tMax score: 39.18 \tEpsilon: 0.93 \tTime: 19.82/per episode\n",
      "Episode 140\tAverage Score: 33.43 \tMax score: 39.18 \tEpsilon: 0.93 \tTime: 23.16/per episode\n",
      "Episode 150\tAverage Score: 35.88 \tMax score: 39.18 \tEpsilon: 0.92 \tTime: 23.17/per episode\n",
      "Episode 160\tAverage Score: 37.16 \tMax score: 39.18 \tEpsilon: 0.92 \tTime: 18.22/per episode\n",
      "Episode 170\tAverage Score: 37.69 \tMax score: 39.29 \tEpsilon: 0.91 \tTime: 17.48/per episode\n",
      "Episode 180\tAverage Score: 37.68 \tMax score: 39.29 \tEpsilon: 0.91 \tTime: 20.55/per episode\n",
      "Episode 190\tAverage Score: 37.63 \tMax score: 39.29 \tEpsilon: 0.90 \tTime: 17.27/per episode\n",
      "Episode 200\tAverage Score: 37.56 \tMax score: 39.29 \tEpsilon: 0.90 \tTime: 23.43/per episode\n",
      "Episode 210\tAverage Score: 37.53 \tMax score: 39.29 \tEpsilon: 0.89 \tTime: 20.23/per episode\n",
      "Episode 220\tAverage Score: 37.41 \tMax score: 39.29 \tEpsilon: 0.89 \tTime: 20.10/per episode\n",
      "Episode 230\tAverage Score: 37.34 \tMax score: 39.29 \tEpsilon: 0.88 \tTime: 22.89/per episode\n",
      "Episode 240\tAverage Score: 37.38 \tMax score: 39.29 \tEpsilon: 0.88 \tTime: 20.89/per episode\n",
      "Episode 250\tAverage Score: 37.50 \tMax score: 39.29 \tEpsilon: 0.87 \tTime: 17.57/per episode\n",
      "Episode 260\tAverage Score: 37.32 \tMax score: 39.29 \tEpsilon: 0.87 \tTime: 19.57/per episode\n",
      "Episode 270\tAverage Score: 37.08 \tMax score: 39.28 \tEpsilon: 0.86 \tTime: 23.34/per episode\n",
      "Episode 280\tAverage Score: 36.97 \tMax score: 39.28 \tEpsilon: 0.86 \tTime: 23.85/per episode\n",
      "Episode 290\tAverage Score: 36.84 \tMax score: 38.90 \tEpsilon: 0.85 \tTime: 23.97/per episode\n",
      "Episode 300\tAverage Score: 36.80 \tMax score: 38.90 \tEpsilon: 0.85 \tTime: 22.83/per episode\n",
      "Episode 310\tAverage Score: 36.73 \tMax score: 38.82 \tEpsilon: 0.84 \tTime: 36.06/per episode\n",
      "Episode 320\tAverage Score: 36.62 \tMax score: 38.82 \tEpsilon: 0.84 \tTime: 25.89/per episode\n",
      "Episode 330\tAverage Score: 36.58 \tMax score: 38.82 \tEpsilon: 0.83 \tTime: 24.94/per episode\n",
      "Episode 340\tAverage Score: 36.59 \tMax score: 38.82 \tEpsilon: 0.83 \tTime: 29.22/per episode\n",
      "Episode 350\tAverage Score: 36.44 \tMax score: 38.82 \tEpsilon: 0.82 \tTime: 19.11/per episode\n",
      "Episode 360\tAverage Score: 36.35 \tMax score: 38.82 \tEpsilon: 0.82 \tTime: 17.17/per episode\n",
      "Episode 370\tAverage Score: 36.41 \tMax score: 38.82 \tEpsilon: 0.81 \tTime: 16.78/per episode\n",
      "Episode 380\tAverage Score: 36.44 \tMax score: 38.82 \tEpsilon: 0.81 \tTime: 19.23/per episode\n",
      "Episode 390\tAverage Score: 36.43 \tMax score: 38.64 \tEpsilon: 0.80 \tTime: 20.46/per episode\n",
      "Episode 400\tAverage Score: 36.44 \tMax score: 38.54 \tEpsilon: 0.80 \tTime: 25.89/per episode\n",
      "Episode 410\tAverage Score: 36.25 \tMax score: 38.54 \tEpsilon: 0.79 \tTime: 18.89/per episode\n",
      "Episode 420\tAverage Score: 36.30 \tMax score: 38.54 \tEpsilon: 0.79 \tTime: 20.00/per episode\n",
      "Episode 430\tAverage Score: 36.37 \tMax score: 38.71 \tEpsilon: 0.78 \tTime: 16.28/per episode\n",
      "Episode 440\tAverage Score: 36.47 \tMax score: 39.35 \tEpsilon: 0.78 \tTime: 17.59/per episode\n",
      "Episode 450\tAverage Score: 36.48 \tMax score: 39.35 \tEpsilon: 0.77 \tTime: 17.12/per episode\n",
      "Episode 460\tAverage Score: 36.72 \tMax score: 39.35 \tEpsilon: 0.77 \tTime: 18.24/per episode\n",
      "Episode 470\tAverage Score: 36.67 \tMax score: 39.35 \tEpsilon: 0.76 \tTime: 16.82/per episode\n",
      "Episode 480\tAverage Score: 36.63 \tMax score: 39.35 \tEpsilon: 0.76 \tTime: 28.73/per episode\n",
      "Episode 490\tAverage Score: 36.59 \tMax score: 39.35 \tEpsilon: 0.75 \tTime: 18.77/per episode\n",
      "Episode 500\tAverage Score: 36.64 \tMax score: 39.35 \tEpsilon: 0.75 \tTime: 26.49/per episode\n"
     ]
    }
   ],
   "source": [
    "scores, moving_averages = ddpg()"
   ]
  },
  {
   "cell_type": "code",
   "execution_count": 8,
   "metadata": {},
   "outputs": [
    {
     "data": {
      "image/png": "[encoded data removed]",
      "text/plain": [
       "<Figure size 432x288 with 1 Axes>"
      ]
     },
     "metadata": {
      "needs_background": "light"
     },
     "output_type": "display_data"
    }
   ],
   "source": [
    "fig = plt.figure()\n",
    "ax = fig.add_subplot(111)\n",
    "plt.plot(np.arange(1, len(scores)+1), scores)\n",
    "ax.plot([0,500],[30,30], color='r', linestyle='--', linewidth=0.6)\n",
    "ax.set_xlim(0, 500)\n",
    "plt.ylabel('Avg. Score over all agents')\n",
    "plt.xlabel('Episode #')\n",
    "# plt.show()\n",
    "plt.tight_layout()\n",
    "plt.savefig('scores.eps')"
   ]
  },
  {
   "cell_type": "code",
   "execution_count": 9,
   "metadata": {},
   "outputs": [
    {
     "data": {
      "image/png": "[encoded data removed]",
      "text/plain": [
       "<Figure size 432x288 with 1 Axes>"
      ]
     },
     "metadata": {
      "needs_background": "light"
     },
     "output_type": "display_data"
    }
   ],
   "source": [
    "fig = plt.figure()\n",
    "ax = fig.add_subplot(111)\n",
    "plt.plot(np.arange(1, len(moving_averages)+1), moving_averages)\n",
    "ax.plot([0,500],[30,30], color='r', linestyle='--', linewidth=0.6)\n",
    "ax.set_xlim(0, 500)\n",
    "plt.ylabel('moving average of rewards')\n",
    "plt.xlabel('Episode #')\n",
    "# plt.show()\n",
    "plt.tight_layout()\n",
    "plt.savefig('moving_average.eps')"
   ]
  },
  {
   "cell_type": "markdown",
   "metadata": {},
   "source": [
    "## Watch trained agent"
   ]
  },
  {
   "cell_type": "code",
   "execution_count": null,
   "metadata": {},
   "outputs": [],
   "source": [
    "agent.actor_local.load_state_dict(torch.load('actor.pth'))\n",
    "agent.critic_local.load_state_dict(torch.load('critic.pth'))"
   ]
  },
  {
   "cell_type": "code",
   "execution_count": null,
   "metadata": {},
   "outputs": [],
   "source": [
    "def watch():      \n",
    "    env_info = env.reset(train_mode=False)[brain_name]     # reset the environment  \n",
    "    states = env_info.vector_observations                  # get the current state (for each agent)\n",
    "    while True:\n",
    "        actions = agent.act(states, add_noise=False)\n",
    "        env_info = env.step(actions)[brain_name]           # send all actions to tne environment\n",
    "        next_states = env_info.vector_observations\n",
    "        rewards = env_info.rewards                         # get reward (for each agent)\n",
    "        dones = env_info.local_done                       # see if episode finished           \n",
    "        states = next_states\n",
    "        if np.any(dones):\n",
    "            break  "
   ]
  },
  {
   "cell_type": "code",
   "execution_count": null,
   "metadata": {},
   "outputs": [],
   "source": [
    "watch()"
   ]
  },
  {
   "cell_type": "code",
   "execution_count": null,
   "metadata": {},
   "outputs": [],
   "source": [
    "env.close()"
   ]
  }
 ],
 "metadata": {
  "kernelspec": {
   "display_name": "drlnd",
   "language": "python",
   "name": "drlnd"
  },
  "language_info": {
   "codemirror_mode": {
    "name": "ipython",
    "version": 3
   },
   "file_extension": ".py",
   "mimetype": "text/x-python",
   "name": "python",
   "nbconvert_exporter": "python",
   "pygments_lexer": "ipython3",
   "version": "3.6.10"
  }
 },
 "nbformat": 4,
 "nbformat_minor": 4
}
