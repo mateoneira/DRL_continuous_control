{
 "cells": [
  {
   "cell_type": "markdown",
   "metadata": {},
   "source": [
    "# Continuous Control\n",
    "---"
   ]
  },
  {
   "cell_type": "code",
   "execution_count": 1,
   "metadata": {},
   "outputs": [],
   "source": [
    "from unityagents import UnityEnvironment\n",
    "import numpy as np\n",
    "from agent.agent import Agent\n",
    "import torch\n",
    "import time\n",
    "\n",
    "from collections import deque\n",
    "import matplotlib.pyplot as plt\n",
    "%matplotlib inline"
   ]
  },
  {
   "cell_type": "code",
   "execution_count": 2,
   "metadata": {},
   "outputs": [
    {
     "name": "stderr",
     "output_type": "stream",
     "text": [
      "INFO:unityagents:\n",
      "'Academy' started successfully!\n",
      "Unity Academy name: Academy\n",
      "        Number of Brains: 1\n",
      "        Number of External Brains : 1\n",
      "        Lesson number : 0\n",
      "        Reset Parameters :\n",
      "\t\tgoal_speed -> 1.0\n",
      "\t\tgoal_size -> 5.0\n",
      "Unity brain name: ReacherBrain\n",
      "        Number of Visual Observations (per agent): 0\n",
      "        Vector Observation space type: continuous\n",
      "        Vector Observation space size (per agent): 33\n",
      "        Number of stacked Vector Observation: 1\n",
      "        Vector Action space type: continuous\n",
      "        Vector Action space size (per agent): 4\n",
      "        Vector Action descriptions: , , , \n"
     ]
    }
   ],
   "source": [
    "env = UnityEnvironment(file_name='Reacher20_Windows_x86_64/Reacher')"
   ]
  },
  {
   "cell_type": "code",
   "execution_count": 3,
   "metadata": {},
   "outputs": [],
   "source": [
    "# get the default brain\n",
    "brain_name = env.brain_names[0]\n",
    "brain = env.brains[brain_name]"
   ]
  },
  {
   "cell_type": "code",
   "execution_count": 4,
   "metadata": {},
   "outputs": [
    {
     "name": "stdout",
     "output_type": "stream",
     "text": [
      "Number of agents: 20\n",
      "Size of each action: 4\n",
      "There are 20 agents. Each observes a state with length: 33\n",
      "The state for the first agent looks like: [ 0.00000000e+00 -4.00000000e+00  0.00000000e+00  1.00000000e+00\n",
      " -0.00000000e+00 -0.00000000e+00 -4.37113883e-08  0.00000000e+00\n",
      "  0.00000000e+00  0.00000000e+00  0.00000000e+00  0.00000000e+00\n",
      "  0.00000000e+00  0.00000000e+00 -1.00000000e+01  0.00000000e+00\n",
      "  1.00000000e+00 -0.00000000e+00 -0.00000000e+00 -4.37113883e-08\n",
      "  0.00000000e+00  0.00000000e+00  0.00000000e+00  0.00000000e+00\n",
      "  0.00000000e+00  0.00000000e+00  5.75471878e+00 -1.00000000e+00\n",
      "  5.55726624e+00  0.00000000e+00  1.00000000e+00  0.00000000e+00\n",
      " -1.68164849e-01]\n"
     ]
    }
   ],
   "source": [
    "# reset the environment\n",
    "env_info = env.reset(train_mode=True)[brain_name]\n",
    "\n",
    "# number of agents\n",
    "num_agents = len(env_info.agents)\n",
    "print('Number of agents:', num_agents)\n",
    "\n",
    "# size of each action\n",
    "action_size = brain.vector_action_space_size\n",
    "print('Size of each action:', action_size)\n",
    "\n",
    "# examine the state space \n",
    "states = env_info.vector_observations\n",
    "state_size = states.shape[1]\n",
    "print('There are {} agents. Each observes a state with length: {}'.format(states.shape[0], state_size))\n",
    "print('The state for the first agent looks like:', states[0])"
   ]
  },
  {
   "cell_type": "code",
   "execution_count": 5,
   "metadata": {},
   "outputs": [
    {
     "name": "stdout",
     "output_type": "stream",
     "text": [
      "agent using cuda:0 device\n"
     ]
    }
   ],
   "source": [
    "agent = Agent(state_size, action_size, num_agents=num_agents,seed=42)"
   ]
  },
  {
   "cell_type": "code",
   "execution_count": null,
   "metadata": {},
   "outputs": [
    {
     "name": "stdout",
     "output_type": "stream",
     "text": [
      "Episode 1\tAverage Score: 0.09\tScore: 0.09 \tTime: 10.84\n",
      "Episode 2\tAverage Score: 0.07\tScore: 0.05 \tTime: 10.29\n",
      "Episode 3\tAverage Score: 0.15\tScore: 0.31 \tTime: 10.38\n",
      "Episode 4\tAverage Score: 0.24\tScore: 0.49 \tTime: 10.49\n",
      "Episode 5\tAverage Score: 0.31\tScore: 0.60 \tTime: 10.63\n",
      "Episode 6\tAverage Score: 0.34\tScore: 0.49 \tTime: 10.84\n",
      "Episode 7\tAverage Score: 0.38\tScore: 0.65 \tTime: 11.02\n",
      "Episode 8\tAverage Score: 0.44\tScore: 0.84 \tTime: 11.25\n",
      "Episode 9\tAverage Score: 0.47\tScore: 0.72 \tTime: 11.53\n",
      "Episode 10\tAverage Score: 0.48\tScore: 0.56 \tTime: 11.65\n",
      "Episode 10\tAverage Score: 0.48 \tMax score: 0.84 \tEpsilon: 1.00 \tTime: 11.65/per episode\n",
      "Episode 11\tAverage Score: 0.51\tScore: 0.85 \tTime: 12.22\n",
      "Episode 12\tAverage Score: 0.51\tScore: 0.51 \tTime: 13.13\n",
      "Episode 13\tAverage Score: 0.51\tScore: 0.49 \tTime: 13.73\n",
      "Episode 14\tAverage Score: 0.53\tScore: 0.82 \tTime: 13.03\n",
      "Episode 15\tAverage Score: 0.55\tScore: 0.83 \tTime: 13.00\n",
      "Episode 16\tAverage Score: 0.55\tScore: 0.44 \tTime: 13.50\n",
      "Episode 17\tAverage Score: 0.54\tScore: 0.47 \tTime: 13.87\n",
      "Episode 18\tAverage Score: 0.54\tScore: 0.46 \tTime: 13.72\n",
      "Episode 19\tAverage Score: 0.54\tScore: 0.55 \tTime: 14.02\n",
      "Episode 20\tAverage Score: 0.53\tScore: 0.47 \tTime: 14.59\n",
      "Episode 20\tAverage Score: 0.53 \tMax score: 0.85 \tEpsilon: 0.99 \tTime: 14.59/per episode\n",
      "Episode 21\tAverage Score: 0.56\tScore: 1.07 \tTime: 16.07\n",
      "Episode 22\tAverage Score: 0.58\tScore: 0.94 \tTime: 15.65\n",
      "Episode 23\tAverage Score: 0.58\tScore: 0.70 \tTime: 15.37\n",
      "Episode 24\tAverage Score: 0.58\tScore: 0.63 \tTime: 15.86\n",
      "Episode 25\tAverage Score: 0.60\tScore: 1.00 \tTime: 15.73\n",
      "Episode 26\tAverage Score: 0.61\tScore: 0.75 \tTime: 15.49\n",
      "Episode 27\tAverage Score: 0.61\tScore: 0.77 \tTime: 15.92\n",
      "Episode 28\tAverage Score: 0.62\tScore: 0.68 \tTime: 16.43\n",
      "Episode 29\tAverage Score: 0.62\tScore: 0.85 \tTime: 16.69\n",
      "Episode 30\tAverage Score: 0.63\tScore: 0.80 \tTime: 16.61\n",
      "Episode 30\tAverage Score: 0.63 \tMax score: 1.07 \tEpsilon: 0.98 \tTime: 16.61/per episode\n",
      "Episode 31\tAverage Score: 0.63\tScore: 0.69 \tTime: 16.89\n",
      "Episode 32\tAverage Score: 0.64\tScore: 0.78 \tTime: 17.78\n",
      "Episode 33\tAverage Score: 0.64\tScore: 0.72 \tTime: 17.44\n",
      "Episode 34\tAverage Score: 0.64\tScore: 0.84 \tTime: 18.85\n",
      "Episode 35\tAverage Score: 0.65\tScore: 0.70 \tTime: 17.66\n",
      "Episode 36\tAverage Score: 0.65\tScore: 0.73 \tTime: 18.02\n",
      "Episode 37\tAverage Score: 0.65\tScore: 0.70 \tTime: 18.49\n",
      "Episode 38\tAverage Score: 0.65\tScore: 0.78 \tTime: 18.75\n",
      "Episode 39\tAverage Score: 0.66\tScore: 0.95 \tTime: 24.08\n",
      "Episode 40\tAverage Score: 0.67\tScore: 0.88 \tTime: 19.73\n",
      "Episode 40\tAverage Score: 0.67 \tMax score: 1.07 \tEpsilon: 0.98 \tTime: 19.73/per episode\n",
      "Episode 41\tAverage Score: 0.67\tScore: 0.71 \tTime: 19.60\n",
      "Episode 42\tAverage Score: 0.67\tScore: 0.77 \tTime: 20.35\n",
      "Episode 43\tAverage Score: 0.67\tScore: 0.61 \tTime: 20.39\n",
      "Episode 44\tAverage Score: 0.67\tScore: 0.80 \tTime: 19.94\n",
      "Episode 45\tAverage Score: 0.67\tScore: 0.56 \tTime: 21.02\n",
      "Episode 46\tAverage Score: 0.67\tScore: 0.50 \tTime: 21.03\n",
      "Episode 47\tAverage Score: 0.66\tScore: 0.35 \tTime: 20.96\n",
      "Episode 48\tAverage Score: 0.66\tScore: 0.50 \tTime: 21.01\n",
      "Episode 49\tAverage Score: 0.65\tScore: 0.25 \tTime: 21.23\n",
      "Episode 50\tAverage Score: 0.64\tScore: 0.53 \tTime: 21.28\n",
      "Episode 50\tAverage Score: 0.64 \tMax score: 1.07 \tEpsilon: 0.97 \tTime: 21.28/per episode\n",
      "Episode 51\tAverage Score: 0.64\tScore: 0.45 \tTime: 21.26\n",
      "Episode 52\tAverage Score: 0.64\tScore: 0.50 \tTime: 21.51\n",
      "Episode 53\tAverage Score: 0.63\tScore: 0.26 \tTime: 21.69\n",
      "Episode 54\tAverage Score: 0.63\tScore: 0.30 \tTime: 21.30\n",
      "Episode 55\tAverage Score: 0.62\tScore: 0.32 \tTime: 21.96\n",
      "Episode 56\tAverage Score: 0.61\tScore: 0.33 \tTime: 23.73\n",
      "Episode 57\tAverage Score: 0.61\tScore: 0.23 \tTime: 21.53\n",
      "Episode 58\tAverage Score: 0.60\tScore: 0.20 \tTime: 21.32\n",
      "Episode 59\tAverage Score: 0.60\tScore: 0.29 \tTime: 22.37\n",
      "Episode 60\tAverage Score: 0.59\tScore: 0.38 \tTime: 23.28\n",
      "Episode 60\tAverage Score: 0.59 \tMax score: 1.07 \tEpsilon: 0.97 \tTime: 23.28/per episode\n",
      "Episode 61\tAverage Score: 0.59\tScore: 0.26 \tTime: 21.52\n",
      "Episode 62\tAverage Score: 0.58\tScore: 0.20 \tTime: 21.71\n",
      "Episode 63\tAverage Score: 0.58\tScore: 0.44 \tTime: 21.68\n",
      "Episode 64\tAverage Score: 0.57\tScore: 0.33 \tTime: 21.76\n",
      "Episode 65\tAverage Score: 0.57\tScore: 0.19 \tTime: 21.27\n",
      "Episode 66\tAverage Score: 0.56\tScore: 0.24 \tTime: 21.36\n",
      "Episode 67\tAverage Score: 0.56\tScore: 0.24 \tTime: 21.37\n",
      "Episode 68\tAverage Score: 0.55\tScore: 0.12 \tTime: 25.02\n",
      "Episode 69\tAverage Score: 0.55\tScore: 0.12 \tTime: 26.33\n",
      "Episode 70\tAverage Score: 0.54\tScore: 0.19 \tTime: 21.60\n",
      "Episode 70\tAverage Score: 0.54 \tMax score: 1.07 \tEpsilon: 0.96 \tTime: 21.60/per episode\n",
      "Episode 71\tAverage Score: 0.53\tScore: 0.08 \tTime: 22.23\n",
      "Episode 72\tAverage Score: 0.53\tScore: 0.21 \tTime: 21.29\n",
      "Episode 73\tAverage Score: 0.53\tScore: 0.22 \tTime: 21.36\n",
      "Episode 74\tAverage Score: 0.52\tScore: 0.24 \tTime: 21.98\n",
      "Episode 75\tAverage Score: 0.52\tScore: 0.09 \tTime: 21.96\n",
      "Episode 76\tAverage Score: 0.51\tScore: 0.07 \tTime: 22.02\n",
      "Episode 77\tAverage Score: 0.51\tScore: 0.13 \tTime: 21.81\n",
      "Episode 78\tAverage Score: 0.50\tScore: 0.11 \tTime: 22.16\n",
      "Episode 79\tAverage Score: 0.49\tScore: 0.10 \tTime: 21.64\n",
      "Episode 80\tAverage Score: 0.49\tScore: 0.15 \tTime: 22.03\n",
      "Episode 80\tAverage Score: 0.49 \tMax score: 1.07 \tEpsilon: 0.96 \tTime: 22.03/per episode\n",
      "Episode 81\tAverage Score: 0.49\tScore: 0.16 \tTime: 22.18\n",
      "Episode 82\tAverage Score: 0.48\tScore: 0.14 \tTime: 22.11\n",
      "Episode 83\tAverage Score: 0.48\tScore: 0.08 \tTime: 22.14\n",
      "Episode 84\tAverage Score: 0.47\tScore: 0.08 \tTime: 22.71\n",
      "Episode 85\tAverage Score: 0.47\tScore: 0.07 \tTime: 23.91\n"
     ]
    }
   ],
   "source": [
    "def ddpg(n_episodes=300):  \n",
    "    scores_deque = deque(maxlen=100)\n",
    "    scores_avg = [] # initialize the score (for each agent)\n",
    "    moving_averages = []\n",
    "    \n",
    "    for i_episode in range(1, n_episodes+1):\n",
    "        env_info = env.reset(train_mode=True)[brain_name]     # reset the environment  \n",
    "        states = env_info.vector_observations                  # get the current state (for each agent)\n",
    "        scores = np.zeros(num_agents)\n",
    "        \n",
    "        agent.reset()\n",
    "        start_time = time.time()\n",
    "        while True:\n",
    "            actions = agent.act(states)\n",
    "            env_info = env.step(actions)[brain_name]           # send all actions to tne environment\n",
    "            next_states = env_info.vector_observations\n",
    "            rewards = env_info.rewards                         # get reward (for each agent)\n",
    "            dones = env_info.local_done                       # see if episode finished\n",
    "            agent.step(states, actions, rewards, next_states, dones)\n",
    "            \n",
    "            states = next_states\n",
    "            scores += rewards\n",
    "            if np.any(dones):\n",
    "                break\n",
    "        \n",
    "        score = np.mean(scores)\n",
    "        scores_deque.append(score)\n",
    "        scores_avg.append(score)\n",
    "        moving_averages.append(np.mean(scores_deque))\n",
    "        print('\\rEpisode {}\\tAverage Score: {:.2f}\\tScore: {:.2f} \\tTime: {:.2f}'.format(i_episode, np.mean(scores_deque), np.mean(scores), time.time()-start_time))\n",
    "        if i_episode % 10 == 0:\n",
    "#             torch.save(agent.actor_local.state_dict(), 'checkpoint_actor_{}.pth'.format(i_episode))\n",
    "#             torch.save(agent.critic_local.state_dict(), 'checkpoint_critic_{}.pth'.format(i_episode))\n",
    "            print('\\rEpisode {}\\tAverage Score: {:.2f} \\tMax score: {:.2f} \\tEpsilon: {:.2f} \\tTime: {:.2f}/per episode'.format(i_episode, np.mean(scores_deque), np.max(scores_deque), agent.epsilon, time.time()-start_time))   \n",
    "    return scores_avg, moving_averages\n",
    "\n",
    "scores, moving_averages = ddpg()\n",
    "\n",
    "fig = plt.figure()\n",
    "ax = fig.add_subplot(111)\n",
    "plt.plot(np.arange(1, len(scores)+1), scores)\n",
    "plt.ylabel('Score')\n",
    "plt.xlabel('Episode #')\n",
    "plt.show()"
   ]
  },
  {
   "cell_type": "code",
   "execution_count": null,
   "metadata": {},
   "outputs": [],
   "source": [
    "fig = plt.figure()\n",
    "ax = fig.add_subplot(111)\n",
    "plt.plot(np.arange(1, len(scores_list)+1), score_list)\n",
    "plt.ylabel('Score')\n",
    "plt.xlabel('Episode #')\n",
    "plt.show()"
   ]
  },
  {
   "cell_type": "code",
   "execution_count": null,
   "metadata": {},
   "outputs": [],
   "source": [
    "env.close()"
   ]
  },
  {
   "cell_type": "code",
   "execution_count": null,
   "metadata": {},
   "outputs": [],
   "source": [
    "states = env_info.vector_observations"
   ]
  },
  {
   "cell_type": "code",
   "execution_count": null,
   "metadata": {},
   "outputs": [],
   "source": [
    "actions = agent.act(states)\n",
    "env_info = env.step(actions)[brain_name]           # send all actions to tne environment\n",
    "next_states = env_info.vector_observations\n",
    "rewards = env_info.rewards                         # get reward (for each agent)\n",
    "dones = env_info.local_done                       # see if episode finished\n",
    "states = next_states"
   ]
  },
  {
   "cell_type": "code",
   "execution_count": null,
   "metadata": {},
   "outputs": [],
   "source": [
    "memory.add(states,actions,rewards, next_states, dones)"
   ]
  },
  {
   "cell_type": "code",
   "execution_count": null,
   "metadata": {},
   "outputs": [],
   "source": [
    "states.shape"
   ]
  },
  {
   "cell_type": "code",
   "execution_count": null,
   "metadata": {},
   "outputs": [],
   "source": [
    "np.array(rewards).reshape(20,1)"
   ]
  },
  {
   "cell_type": "code",
   "execution_count": null,
   "metadata": {},
   "outputs": [],
   "source": [
    "experiences = memory.sample()\n",
    "states, actions, rewards, next_states, dones = experiences "
   ]
  },
  {
   "cell_type": "code",
   "execution_count": null,
   "metadata": {},
   "outputs": [],
   "source": [
    "states.shape"
   ]
  },
  {
   "cell_type": "code",
   "execution_count": null,
   "metadata": {
    "scrolled": true
   },
   "outputs": [],
   "source": [
    "actions.shape"
   ]
  },
  {
   "cell_type": "code",
   "execution_count": null,
   "metadata": {
    "scrolled": true
   },
   "outputs": [],
   "source": [
    "rewards.shape"
   ]
  },
  {
   "cell_type": "code",
   "execution_count": null,
   "metadata": {},
   "outputs": [],
   "source": [
    "dones.shape"
   ]
  },
  {
   "cell_type": "code",
   "execution_count": null,
   "metadata": {},
   "outputs": [],
   "source": [
    "actions_next = agent.actor_target(next_states)\n",
    "Q_targets_next = agent.critic_target(next_states, actions_next)\n",
    "Q_targets = rewards + (0.99 * Q_targets_next * (1 - dones))"
   ]
  },
  {
   "cell_type": "code",
   "execution_count": null,
   "metadata": {},
   "outputs": [],
   "source": [
    "Q_targets_next.shape"
   ]
  },
  {
   "cell_type": "code",
   "execution_count": null,
   "metadata": {},
   "outputs": [],
   "source": [
    "from agent.agent import ReplayBuffer "
   ]
  },
  {
   "cell_type": "code",
   "execution_count": null,
   "metadata": {},
   "outputs": [],
   "source": [
    "memory = ReplayBuffer(4, 2, 2, 42)"
   ]
  },
  {
   "cell_type": "code",
   "execution_count": null,
   "metadata": {},
   "outputs": [],
   "source": [
    "from agent.agent import OUNoise\n",
    "noise = [OUNoise(4, 42) for i in range(20)]"
   ]
  },
  {
   "cell_type": "code",
   "execution_count": null,
   "metadata": {},
   "outputs": [],
   "source": [
    "noise = np.array([noise[i].sample() for i, n in enumerate(noise)])"
   ]
  },
  {
   "cell_type": "code",
   "execution_count": null,
   "metadata": {},
   "outputs": [],
   "source": [
    "agent.noise.sample()"
   ]
  },
  {
   "cell_type": "code",
   "execution_count": null,
   "metadata": {},
   "outputs": [],
   "source": [
    "noise"
   ]
  },
  {
   "cell_type": "code",
   "execution_count": null,
   "metadata": {},
   "outputs": [],
   "source": [
    "noise*2"
   ]
  },
  {
   "cell_type": "code",
   "execution_count": null,
   "metadata": {},
   "outputs": [],
   "source": []
  }
 ],
 "metadata": {
  "kernelspec": {
   "display_name": "drlnd",
   "language": "python",
   "name": "drlnd"
  },
  "language_info": {
   "codemirror_mode": {
    "name": "ipython",
    "version": 3
   },
   "file_extension": ".py",
   "mimetype": "text/x-python",
   "name": "python",
   "nbconvert_exporter": "python",
   "pygments_lexer": "ipython3",
   "version": "3.6.10"
  }
 },
 "nbformat": 4,
 "nbformat_minor": 4
}
